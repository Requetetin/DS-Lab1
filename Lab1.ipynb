{
 "cells": [
  {
   "cell_type": "markdown",
   "metadata": {},
   "source": [
    "Martín Amado - 19020\n",
    "Juan Pablo Pineda - 19087\n",
    "\n",
    "referencia para análisis de datos: https://www.kaggle.com/pmarcelino/comprehensive-data-exploration-with-python#4.-Missing-data"
   ]
  },
  {
   "cell_type": "code",
   "execution_count": null,
   "metadata": {},
   "outputs": [],
   "source": [
    "import pandas as pd\r\n",
    "import matplotlib.pyplot as plt\r\n",
    "import seaborn as sns\r\n",
    "import numpy as np\r\n",
    "from sklearn.preprocessing import StandardScaler\r\n",
    "from scipy import stats\r\n",
    "import matplotlib.cm as cm\r\n",
    "np.warnings.filterwarnings('ignore', category=np.VisibleDeprecationWarning)\r\n",
    "\r\n",
    "from sklearn.decomposition import PCA\r\n",
    "from sklearn.pipeline import make_pipeline\r\n",
    "from apyori import apriori"
   ]
  },
  {
   "cell_type": "markdown",
   "metadata": {},
   "source": [
    "## Análisis  exploratorio\n",
    "Explicación de hallazgos y conclusiones"
   ]
  },
  {
   "cell_type": "code",
   "execution_count": null,
   "metadata": {},
   "outputs": [],
   "source": [
    "data = pd.read_csv('./train.csv', encoding = \"latin1\")\n",
    "file = open('cuantitativas.txt', 'r')\n",
    "quant= file.read().splitlines()\n",
    "file = open('cualitativas.txt', 'r')\n",
    "quali= file.read().splitlines()"
   ]
  },
  {
   "cell_type": "markdown",
   "metadata": {},
   "source": [
    "## Descripcion de los datos"
   ]
  },
  {
   "cell_type": "code",
   "execution_count": null,
   "metadata": {},
   "outputs": [],
   "source": [
    "#Variables cuantitativas\n",
    "data[quant].describe()"
   ]
  },
  {
   "cell_type": "markdown",
   "metadata": {},
   "source": [
    "## Analisis de los datos\n",
    "\n",
    "### Correlacion en variables cuantitativas"
   ]
  },
  {
   "cell_type": "code",
   "execution_count": null,
   "metadata": {},
   "outputs": [],
   "source": [
    "datadataddadatak = 11\n",
    "corrmat = data.corr()\n",
    "columns = corrmat.nlargest(k, 'SalePrice')['SalePrice'].index\n",
    "cm = np.corrcoef(data[columns].values.T)\n",
    "sns.set(font_scale=1.25)\n",
    "hm = sns.heatmap(cm, cbar=True, annot=True, square=True, fmt='.2f', annot_kws={'size': 10}, yticklabels=columns.values, xticklabels=columns.values)\n",
    "plt.show()"
   ]
  },
  {
   "cell_type": "markdown",
   "metadata": {},
   "source": [
    "### Kurtosis, Asimetria y Gráfico de las 11 variables con mayor correlación"
   ]
  },
  {
   "cell_type": "code",
   "execution_count": null,
   "metadata": {},
   "outputs": [],
   "source": [
    "for var in columns:\n",
    "    localData = data[var].dropna(how='all', axis=0)\n",
    "  \n",
    "    sns.displot(localData, kde=True)\n",
    "\n",
    "    print( var, ':', ' Kurtosis:', stats.kurtosis(localData), 'Asimetría:', stats.skew(localData), '\\n')"
   ]
  },
  {
   "cell_type": "markdown",
   "metadata": {},
   "source": [
    "### Gráfico de pares de las 11 variables cuantitativas con mayor correlación"
   ]
  },
  {
   "cell_type": "code",
   "execution_count": null,
   "metadata": {},
   "outputs": [],
   "source": [
    "sns.set()\n",
    "sns.pairplot(data[columns], height= 5)\n",
    "plt.show()"
   ]
  },
  {
   "cell_type": "markdown",
   "metadata": {},
   "source": [
    "### Gráficos de barras de las variables cualitativas"
   ]
  },
  {
   "cell_type": "code",
   "execution_count": null,
   "metadata": {},
   "outputs": [],
   "source": [
    "#Variables cualitativas\n",
    "pd.set_option(\"display.max_rows\", data.shape[0]+1)\n",
    "for var in quali:\n",
    "  #Se omite ID ya que, en este caso no aporta ninguna informacion importante.\n",
    "  if(var == \"Id\"):\n",
    "    pass\n",
    "  #Se reemplaza el grafico de barras en estas variables por una tabla de frecuencias ya que la informacion era ilegible\n",
    "  elif(var in [\"Neighborhood\", \"YearBuilt\", \"YearRemodAdd\", \"GarageYrBlt\"]):\n",
    "    print(data[var].value_counts(), \"\\n\")\n",
    "  #muestra graficos de barras legibles.\n",
    "  else:\n",
    "    data[var].value_counts().plot(kind='barh')\n",
    "    plt.figure(figsize=(20,5))\n",
    "    print(var)\n",
    "    plt.show()"
   ]
  },
  {
   "cell_type": "markdown",
   "metadata": {},
   "source": [
    "### Gráficos de Caja y Bigotes de las variables Cuantitativas"
   ]
  },
  {
   "cell_type": "code",
   "execution_count": null,
   "metadata": {},
   "outputs": [],
   "source": [
    "data.boxplot(column=[\"OverallQual\", \"GarageArea\", \"YearRemodAdd\"])"
   ]
  },
  {
   "cell_type": "markdown",
   "metadata": {},
   "source": [
    "### Kurtosis, Asimetria y Gráfico de las otras variables cuantitativas"
   ]
  },
  {
   "cell_type": "code",
   "execution_count": null,
   "metadata": {},
   "outputs": [],
   "source": [
    "#Variables cualitativas\n",
    "for var in quali:\n",
    "  data[var].value_counts().plot(kind='barh')\n",
    "  plt.figure(figsize=(20,5))\n",
    "  print(var)\n",
    "  plt.show()"
   ]
  },
  {
   "cell_type": "markdown",
   "metadata": {},
   "source": [
    "### Kurtosis, Asimetria y Gráfico de las otras variables cuantitativas"
   ]
  },
  {
   "cell_type": "code",
   "execution_count": null,
   "metadata": {},
   "outputs": [],
   "source": [
    "for var in quant:\n",
    "  if var not in columns:\n",
    "    localData = data[var].dropna(how='all', axis=0)\n",
    "  \n",
    "    sns.displot(localData, kde=True)\n",
    "\n",
    "    print( var, ':', ' Kurtosis:', stats.kurtosis(localData), 'Asimetría:', stats.skew(localData), '\\n')"
   ]
  },
  {
   "cell_type": "markdown",
   "metadata": {},
   "source": [
    "### Análisis PCA"
   ]
  },
  {
   "cell_type": "markdown",
   "metadata": {},
   "source": [
    "De acuerdo con la matriz de correlación presentada anteriormente, se observan 3 fenómenos importantes:\n",
    "-Dentro de las 11 variables con mayor correlación, hay correlación alta y baja\n",
    "-La correlación alta por lo general es entre variables que se conectan por lo que miden (garage con cantidad de carros)\n",
    "-La correlación baja se da entre variables de tamaño vs año."
   ]
  },
  {
   "cell_type": "markdown",
   "metadata": {},
   "source": [
    "####  Indice  KMO  y  el  test  de  esfericidad  de  Bartlett"
   ]
  },
  {
   "cell_type": "code",
   "execution_count": null,
   "metadata": {},
   "outputs": [],
   "source": [
    "### LotFrontage Nan is replaced with 0, assuming no length of street touches the property\n",
    "data['LotFrontage'] = data['LotFrontage'].fillna(0)\n",
    "\n",
    "### MasVnrArea Nan is replaced with 0, assuming no Veneer is present therefor the area is 0\n",
    "data['MasVnrArea'] = data['MasVnrArea'].fillna(0)"
   ]
  },
  {
   "cell_type": "code",
   "execution_count": null,
   "metadata": {},
   "outputs": [],
   "source": [
    "chi_cuadrado, p_valor = calculate_bartlett_sphericity(data[quant])\n",
    "chi_cuadrado, p_valor"
   ]
  },
  {
   "cell_type": "markdown",
   "metadata": {},
   "source": [
    "Analisis: El valor de p es menor a 0.05, lo que indica correlacion entre variables y el rechazo de la hipotesis nula"
   ]
  },
  {
   "cell_type": "code",
   "execution_count": null,
   "metadata": {},
   "outputs": [],
   "source": [
    "kmo,kmo_modelo = calculate_kmo(data[quant])\n",
    "kmo_modelo"
   ]
  },
  {
   "cell_type": "markdown",
   "metadata": {},
   "source": [
    "Analisis: Con un indice mayor a 0.5, la adecuacion muestral para analisis factorial es valida, y se puede hacer el analisis de componentes principales"
   ]
  },
  {
   "cell_type": "markdown",
   "metadata": {},
   "source": [
    "### Analisis de Componentes Principales"
   ]
  },
  {
   "cell_type": "code",
   "execution_count": null,
   "metadata": {},
   "outputs": [],
   "source": [
    "pca_pipe = make_pipeline(StandardScaler(), PCA())\n",
    "pca_pipe.fit(data[quant])\n",
    "\n",
    "pca_model = pca_pipe.named_steps['pca']\n",
    "\n",
    "pd.DataFrame(\n",
    "  data = pca_model.components_,\n",
    "  columns = data[quant].columns,\n",
    "  index = ['PC1','PC2','PC3','PC5','PC6','PC7','PC8', 'PC9', 'PC10', 'PC11', 'PC12', 'PC13', 'PC14', 'PC15', 'PC16', 'PC17', 'PC18', 'PC19', 'PC20', 'PC21', 'PC22', 'PC23', 'PC24', 'PC25', 'PC26', 'PC27', 'PC28', 'PC29', 'PC30']\n",
    ")"
   ]
  },
  {
   "cell_type": "markdown",
   "metadata": {},
   "source": [
    "#### Variable y su componente"
   ]
  },
  {
   "cell_type": "code",
   "execution_count": null,
   "metadata": {},
   "outputs": [],
   "source": [
    "fig, ax = plt.subplots(nrows=1, ncols=1)\n",
    "componentes = pca_model.components_\n",
    "plt.imshow(componentes.T)\n",
    "plt.yticks(range(len(data[quant].columns)), data[quant].columns)\n",
    "plt.xticks(range(len(data[quant].columns)), np.arange(pca_model.n_components_)+1)\n",
    "plt.grid(False)\n",
    "plt.colorbar();\n",
    "fig.set_size_inches(12, 12)"
   ]
  },
  {
   "cell_type": "markdown",
   "metadata": {},
   "source": [
    "### Varianza por componente"
   ]
  },
  {
   "cell_type": "code",
   "execution_count": null,
   "metadata": {},
   "outputs": [],
   "source": [
    "pca_model.explained_variance_ratio_"
   ]
  },
  {
   "cell_type": "code",
   "execution_count": null,
   "metadata": {},
   "outputs": [],
   "source": [
    "fig, ax = plt.subplots(nrows=1, ncols=1, figsize=(6, 4))\n",
    "ax.bar(\n",
    "    x      = np.arange(pca_model.n_components_) + 1,\n",
    "    height = pca_model.explained_variance_ratio_\n",
    ")\n",
    "\n",
    "for x, y in zip(np.arange(len(data[quant].columns)) + 1, pca_model.explained_variance_ratio_):\n",
    "    label = round(y, 2)\n",
    "    ax.annotate(\n",
    "        label,\n",
    "        (x,y),\n",
    "        textcoords=\"offset points\",\n",
    "        xytext=(0,10),\n",
    "        ha='center'\n",
    "    )\n",
    "\n",
    "ax.set_xticks(np.arange(pca_model.n_components_) + 1)\n",
    "ax.set_ylim(0, 1.1)\n",
    "ax.set_title('Porcentaje de varianza explicada por cada componente')\n",
    "ax.set_xlabel('Componente principal')\n",
    "ax.set_ylabel('Por. varianza explicada')"
   ]
  },
  {
   "cell_type": "code",
   "execution_count": null,
   "metadata": {},
   "outputs": [],
   "source": [
    "prop_varianza_acum = pca_model.explained_variance_ratio_.cumsum()\n",
    "print('------------------------------------------')\n",
    "print('Porcentaje de varianza explicada acumulada')\n",
    "print('------------------------------------------')\n",
    "print(prop_varianza_acum)\n",
    "\n",
    "fig, ax = plt.subplots(nrows=1, ncols=1, figsize=(6, 4))\n",
    "ax.plot(\n",
    "    np.arange(len(data[quant].columns)) + 1,\n",
    "    prop_varianza_acum,\n",
    "    marker = 'o'\n",
    ")\n",
    "\n",
    "for x, y in zip(np.arange(len(data[quant].columns)) + 1, prop_varianza_acum):\n",
    "    label = round(y, 2)\n",
    "    ax.annotate(\n",
    "        label,\n",
    "        (x,y),\n",
    "        textcoords=\"offset points\",\n",
    "        xytext=(0,10),\n",
    "        ha='center'\n",
    "    )\n",
    "    \n",
    "ax.set_ylim(0, 1.1)\n",
    "ax.set_xticks(np.arange(pca_model.n_components_) + 1)\n",
    "ax.set_title('Porcentaje de varianza explicada acumulada')\n",
    "ax.set_xlabel('Componente principal')\n",
    "ax.set_ylabel('Por. varianza acumulada')"
   ]
  },
  {
   "cell_type": "markdown",
   "metadata": {},
   "source": [
    "Para mantener el mayor porcentaje de la varianza posible, se tomaron 21 dimensiones. Esto permite tener hasta 95.60% de la varianza."
   ]
  },
  {
   "cell_type": "markdown",
   "metadata": {},
   "source": [
    "### Reglas de asociacion apriori"
   ]
  },
  {
   "cell_type": "code",
   "execution_count": null,
   "metadata": {},
   "outputs": [],
   "source": []
  },
  {
   "cell_type": "markdown",
   "metadata": {},
   "source": [
    "### Conclusiones"
   ]
  },
  {
   "cell_type": "markdown",
   "metadata": {},
   "source": [
    "Una gran parte de los datos tienen una distribución normal, lo que permite hacer asunciones para guiar el proceso del análisis."
   ]
  },
  {
   "cell_type": "markdown",
   "metadata": {},
   "source": [
    "Los componentes principales nos dan a entender dos cosas principales\r\n",
    "\r\n",
    "1. Las variables que representan 'lujos' suelen tener menor correlacion, pues aumentan el precio de una casa, pero no son la unica dependencia.\r\n",
    "\r\n",
    "2. La mayor correlacion y agrupaciones se dan en las variables como: Tamaños de patio, si existe dicho patio. Tamaño de garage, si existe un garage."
   ]
  }
 ],
 "metadata": {
  "kernelspec": {
   "display_name": "Python 3.9.13 64-bit",
   "metadata": {
    "interpreter": {
     "hash": "6cb11118430048aaffde37140829a96b2f2778371a079ecf7cef1d9eee249f62"
    }
   },
   "name": "python3"
  },
  "language_info": {
   "codemirror_mode": {
    "name": "ipython",
    "version": 3
   },
   "file_extension": ".py",
   "mimetype": "text/x-python",
   "name": "python",
   "nbconvert_exporter": "python",
   "pygments_lexer": "ipython3",
   "version": "3.9.13"
  },
  "orig_nbformat": 2,
  "vscode": {
   "interpreter": {
    "hash": "b7578f9c007092fd00775d1f2b081710f471f15f9557cbd069a0edfb78e3026b"
   }
  }
 },
 "nbformat": 4,
 "nbformat_minor": 2
}